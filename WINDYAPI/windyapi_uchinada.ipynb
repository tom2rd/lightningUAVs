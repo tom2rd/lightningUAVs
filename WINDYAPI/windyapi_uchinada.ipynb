{
 "cells": [
  {
   "cell_type": "code",
   "execution_count": 14,
   "id": "9e9237f0-ed1f-4536-be6f-b71c374b1fb2",
   "metadata": {},
   "outputs": [],
   "source": [
    "import pandas as pd\n",
    "import json\n",
    "import os\n",
    "\n",
    "import json\n",
    "import requests\n",
    "\n",
    "import datetime\n",
    "import math\n",
    "\n",
    "\n",
    "#----- API request-----\n",
    "url = 'https://api.windy.com/api/point-forecast/v2'  #windy point API\n",
    "#内灘町の緯度経度　とりあえずのKEY\n",
    "data = {\n",
    "    \"lat\": xx.xxx,  \n",
    "    \"lon\": yyy.yyy,\n",
    "    \"model\": \"gfs\",\n",
    "    \"parameters\": [\"wind\",\"temp\",\"ptype\",\"windGust\",\"gh\"],\n",
    "    \"levels\": [\"surface\", \"1000h\", \"950h\"],\n",
    "    \"key\": \"your API key\"\n",
    "}\n",
    "headers = {\n",
    "    'Content-Type': 'application/json',\n",
    "}\n",
    "r = requests.post('https://api.windy.com/api/point-forecast/v2', json = data)\n",
    "#dict型のJSONなので数合わせしてから\n",
    "r = json.loads(r.text)\n",
    "\n",
    "df=pd.DataFrame.from_dict({\n",
    "    'ts':r['ts'],\n",
    "    'wind_u_0':r['wind_u-surface'],\n",
    "    'wind_v_0':r['wind_v-surface'],\n",
    "    'wind_u_100':r['wind_u-1000h'],\n",
    "    'wind_v_100':r['wind_v-1000h'],\n",
    "    'wind_u_750':r['wind_u-950h'],\n",
    "    'wind_v_750':r['wind_v-950h'],\n",
    "    'wind_max':r['gust-surface'],\n",
    "    'temp':r['temp-surface'],\n",
    "    'ptype-surface':r['ptype-surface']\n",
    "})\n",
    "\n",
    "dt=[]\n",
    "dwind_ms0=[]\n",
    "dwind_d0=[]\n",
    "dwind_ms100=[]\n",
    "dwind_d100=[]\n",
    "dwind_ms750=[]\n",
    "dwind_d750=[]\n",
    "\n",
    "for i,ts in enumerate(df['ts']):\n",
    "    if df['wind_u_0'][i]==0 : df['wind_u_0'][i]=0.000001\n",
    "    if df['wind_v_0'][i]==0 : df['wind_v_0'][i]=0.000001\n",
    "    if df['wind_u_100'][i]==0 : df['wind_u_100'][i]=0.000001\n",
    "    if df['wind_v_100'][i]==0 : df['wind_v_100'][i]=0.000001\n",
    "    if df['wind_u_750'][i]==0 : df['wind_u_750'][i]=0.000001\n",
    "    if df['wind_v_750'][i]==0 : df['wind_v_750'][i]=0.000001\n",
    "    dt.append(datetime.datetime.fromtimestamp(ts/1000))\n",
    "    dwind_ms0.append(math.sqrt(df['wind_u_0'][i]**2+df['wind_v_0'][i]**2))\n",
    "    dwind_d0.append(90-math.atan(df['wind_v_0'][i]/df['wind_u_0'][i])/math.pi*180)\n",
    "    dwind_ms100.append(math.sqrt(df['wind_u_100'][i]**2+df['wind_v_100'][i]**2))\n",
    "    dwind_d100.append(90-math.atan(df['wind_v_100'][i]/df['wind_u_100'][i])/math.pi*180)\n",
    "    dwind_ms750.append(math.sqrt(df['wind_u_750'][i]**2+df['wind_v_750'][i]**2))\n",
    "    dwind_d750.append(90-math.atan(df['wind_v_750'][i]/df['wind_u_750'][i])/math.pi*180)\n",
    "\n",
    "df['TimeS']=dt               #Timestamp型に変更\n",
    "df['temp']=df['temp']-273.15 #K ->℃\n",
    "df['wind_ms0']=dwind_ms0     # m/s \n",
    "df['wind_d0']=dwind_d0       #風向き角度に変更\n",
    "df['wind_ms100']=dwind_ms100\n",
    "df['dwind_d100']=dwind_d100\n",
    "df['wind_ms750']=dwind_ms750\n",
    "df['wind_d750']=dwind_d750\n",
    "\n",
    "\n",
    "fname=str(df['TimeS'][0].strftime(\"%Y%m%d%M%I%S\"))+\"WINDY.csv\"\n",
    "df.to_csv(fname)"
   ]
  },
  {
   "cell_type": "code",
   "execution_count": 13,
   "id": "b78cb4c5-82a4-427d-bdbe-d5c93274d671",
   "metadata": {},
   "outputs": [
    {
     "data": {
      "text/plain": [
       "'20220113000600'"
      ]
     },
     "execution_count": 13,
     "metadata": {},
     "output_type": "execute_result"
    }
   ],
   "source": []
  },
  {
   "cell_type": "code",
   "execution_count": null,
   "id": "0ae5a9fc-a03c-490f-8e77-999cbdb81608",
   "metadata": {},
   "outputs": [],
   "source": []
  }
 ],
 "metadata": {
  "kernelspec": {
   "display_name": "Python 3 (ipykernel)",
   "language": "python",
   "name": "python3"
  },
  "language_info": {
   "codemirror_mode": {
    "name": "ipython",
    "version": 3
   },
   "file_extension": ".py",
   "mimetype": "text/x-python",
   "name": "python",
   "nbconvert_exporter": "python",
   "pygments_lexer": "ipython3",
   "version": "3.9.7"
  }
 },
 "nbformat": 4,
 "nbformat_minor": 5
}
